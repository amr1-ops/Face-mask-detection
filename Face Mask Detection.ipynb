{
 "cells": [
  {
   "cell_type": "code",
   "execution_count": 1,
   "id": "2062ba71",
   "metadata": {},
   "outputs": [],
   "source": [
    "import numpy as np\n",
    "import pandas as pd\n",
    "from tqdm import tqdm\n",
    "import os\n",
    "import cv2\n",
    "from tensorflow.keras import layers,models\n",
    "from sklearn.model_selection import train_test_split\n",
    "import matplotlib.pyplot as plt\n",
    "import tensorflow as tf"
   ]
  },
  {
   "cell_type": "code",
   "execution_count": 2,
   "id": "4fb248f3",
   "metadata": {},
   "outputs": [
    {
     "name": "stderr",
     "output_type": "stream",
     "text": [
      "100%|████████████████████████████████████████████████████████████████████████████| 2994/2994 [00:02<00:00, 1021.34it/s]\n",
      "100%|████████████████████████████████████████████████████████████████████████████| 2994/2994 [00:02<00:00, 1043.05it/s]\n",
      "100%|████████████████████████████████████████████████████████████████████████████| 2994/2994 [00:02<00:00, 1157.32it/s]\n"
     ]
    }
   ],
   "source": [
    "Datadir = \"Dataset\"\n",
    "Classes = [\"mask_weared_incorrect\",\"with_mask\",\"without_mask\"]\n",
    "Dataset=[]\n",
    "\n",
    "def data_preprocessing():\n",
    "    for file in Classes:\n",
    "        path = os.path.join(Datadir,file) #create path of two files\n",
    "        class_num = Classes.index(file) #classification parameter\n",
    "        for img in tqdm(os.listdir(path)): #iterate overall img in the file \n",
    "            try:\n",
    "                img_arr = cv2.imread(os.path.join(path,img)) #read the img\n",
    "                img_arr = cv2.cvtColor(img_arr, cv2.COLOR_BGR2RGB) #it may be not necessory but i put it as a precaution\n",
    "                img_arr = cv2.resize(img_arr, (96, 96)) # resize the img\n",
    "                img_arr = np.array(img_arr) #convert to numpay array\n",
    "                Dataset.append([img_arr, class_num])  # add this to our training_data\n",
    "            except Exception as e:  # in the interest in keeping the output clean...\n",
    "                pass\n",
    "data_preprocessing()"
   ]
  },
  {
   "cell_type": "code",
   "execution_count": 3,
   "id": "5f8667e0",
   "metadata": {},
   "outputs": [
    {
     "name": "stdout",
     "output_type": "stream",
     "text": [
      "Features loaded..\n",
      "\n"
     ]
    }
   ],
   "source": [
    "Features = []\n",
    "Target = []\n",
    "\n",
    "for feature,label in Dataset:\n",
    "    Target.append(label)\n",
    "    Features.append(feature)  \n",
    "\n",
    "Features = np.array(Features)\n",
    "print(\"Features loaded..\\n\")\n"
   ]
  },
  {
   "cell_type": "code",
   "execution_count": 4,
   "id": "99139636",
   "metadata": {},
   "outputs": [],
   "source": [
    "Xtrain, Xtest, ytrain, ytest = train_test_split(Features,Target,test_size=.25,random_state=1234123)\n",
    "\n",
    "Xtrain = np.array(Xtrain)\n",
    "Xtest = np.array(Xtest)\n",
    "ytrain = np.array(ytrain)\n",
    "ytest = np.array(ytest)"
   ]
  },
  {
   "cell_type": "code",
   "execution_count": 5,
   "id": "cfd85350",
   "metadata": {},
   "outputs": [
    {
     "name": "stdout",
     "output_type": "stream",
     "text": [
      "Start training..\n",
      "\n",
      "Epoch 1/10\n",
      "211/211 [==============================] - 34s 160ms/step - loss: 0.6168 - accuracy: 0.8146 - val_loss: 0.2398 - val_accuracy: 0.9274\n",
      "Epoch 2/10\n",
      "211/211 [==============================] - 35s 164ms/step - loss: 0.1704 - accuracy: 0.9473 - val_loss: 0.1554 - val_accuracy: 0.9577\n",
      "Epoch 3/10\n",
      "211/211 [==============================] - 35s 167ms/step - loss: 0.1265 - accuracy: 0.9618 - val_loss: 0.0922 - val_accuracy: 0.9697\n",
      "Epoch 4/10\n",
      "211/211 [==============================] - 34s 161ms/step - loss: 0.1019 - accuracy: 0.9684 - val_loss: 0.0769 - val_accuracy: 0.9760\n",
      "Epoch 5/10\n",
      "211/211 [==============================] - 33s 155ms/step - loss: 0.0804 - accuracy: 0.9739 - val_loss: 0.0888 - val_accuracy: 0.9795\n",
      "Epoch 6/10\n",
      "211/211 [==============================] - 33s 157ms/step - loss: 0.0674 - accuracy: 0.9794 - val_loss: 0.1129 - val_accuracy: 0.9622\n",
      "Epoch 7/10\n",
      "211/211 [==============================] - 35s 167ms/step - loss: 0.0577 - accuracy: 0.9807 - val_loss: 0.1178 - val_accuracy: 0.9733\n",
      "Epoch 8/10\n",
      "211/211 [==============================] - 34s 160ms/step - loss: 0.0815 - accuracy: 0.9742 - val_loss: 0.1126 - val_accuracy: 0.9751\n",
      "Epoch 9/10\n",
      "211/211 [==============================] - 33s 158ms/step - loss: 0.0519 - accuracy: 0.9825 - val_loss: 0.1340 - val_accuracy: 0.9675\n",
      "Epoch 10/10\n",
      "211/211 [==============================] - 34s 161ms/step - loss: 0.0663 - accuracy: 0.9780 - val_loss: 0.1051 - val_accuracy: 0.9737\n",
      "71/71 - 3s - loss: 0.1051 - accuracy: 0.9737\n",
      "accuracy  0.9737311005592346\n"
     ]
    }
   ],
   "source": [
    "print(\"Start training..\\n\")\n",
    "\n",
    "model = models.Sequential()\n",
    "model.add(layers.Conv2D(16, (3, 3),activation='relu', input_shape=(96,96,3)))\n",
    "model.add(layers.MaxPooling2D(pool_size=(2, 2)))\n",
    "model.add(layers.Conv2D(32, (3, 3),activation='relu'))\n",
    "model.add(layers.MaxPooling2D(pool_size=(2, 2)))\n",
    "model.add(layers.Conv2D(64, (3, 3), activation='relu'))\n",
    "model.add(layers.MaxPooling2D(pool_size=(2, 2)))\n",
    "model.add(layers.Conv2D(128, (3, 3),activation='relu'))\n",
    "model.add(layers.MaxPooling2D(pool_size=(2, 2)))\n",
    "model.add(layers.Conv2D(256, (3, 3),activation='relu'))\n",
    "model.add(layers.MaxPooling2D(pool_size=(2, 2)))\n",
    "#--------------------------------------------\n",
    "\n",
    "model.add(layers.Flatten())  # this converts our 3D feature(width,height,channel) maps to 1D feature vectors\n",
    "\n",
    "model.add(layers.Dense(256,activation='relu'))#feature selection\n",
    "\n",
    "model.add(layers.Dense(3))\n",
    "\n",
    "model.compile(optimizer='adam',loss=tf.keras.losses.SparseCategoricalCrossentropy(from_logits=True),metrics=['accuracy'])#combination between two GD methodologies \"adam\"\n",
    "history = model.fit(Xtrain, ytrain,epochs=10, validation_data=(Xtest, ytest))\n",
    "test_loss, test_acc = model.evaluate(Xtest,  ytest, verbose=2)\n",
    "print(\"accuracy \",test_acc)"
   ]
  },
  {
   "cell_type": "code",
   "execution_count": 6,
   "id": "1dd61f7f",
   "metadata": {},
   "outputs": [
    {
     "name": "stdout",
     "output_type": "stream",
     "text": [
      "WARNING:tensorflow:From C:\\Users\\Ahmed Amr\\anaconda3\\lib\\site-packages\\tensorflow\\python\\training\\tracking\\tracking.py:111: Model.state_updates (from tensorflow.python.keras.engine.training) is deprecated and will be removed in a future version.\n",
      "Instructions for updating:\n",
      "This property should not be used in TensorFlow 2.0, as updates are applied automatically.\n",
      "WARNING:tensorflow:From C:\\Users\\Ahmed Amr\\anaconda3\\lib\\site-packages\\tensorflow\\python\\training\\tracking\\tracking.py:111: Layer.updates (from tensorflow.python.keras.engine.base_layer) is deprecated and will be removed in a future version.\n",
      "Instructions for updating:\n",
      "This property should not be used in TensorFlow 2.0, as updates are applied automatically.\n",
      "INFO:tensorflow:Assets written to: Face mask Detection.model\\assets\n"
     ]
    }
   ],
   "source": [
    "model.save(\"Face mask Detection.model\")"
   ]
  },
  {
   "cell_type": "code",
   "execution_count": 7,
   "id": "161d9c74",
   "metadata": {},
   "outputs": [
    {
     "data": {
      "image/png": "[encoded data removed]",
      "text/plain": [
       "<Figure size 576x432 with 1 Axes>"
      ]
     },
     "metadata": {
      "needs_background": "light"
     },
     "output_type": "display_data"
    }
   ],
   "source": [
    "#loss curve\n",
    "loss_train = history.history['loss']\n",
    "epochs = range(1,11)\n",
    "plt.figure(figsize=(8,6))\n",
    "plt.plot(epochs, loss_train, 'g', label='loss')\n",
    "plt.title('loss curve')\n",
    "plt.xlabel('Epochs')\n",
    "plt.ylabel('Loss')\n",
    "plt.legend()\n",
    "plt.show()"
   ]
  },
  {
   "cell_type": "code",
   "execution_count": 8,
   "id": "89c74312",
   "metadata": {},
   "outputs": [
    {
     "data": {
      "image/png": "[encoded data removed]",
      "text/plain": [
       "<Figure size 576x432 with 1 Axes>"
      ]
     },
     "metadata": {
      "needs_background": "light"
     },
     "output_type": "display_data"
    }
   ],
   "source": [
    "#accuracy curve\n",
    "loss_train = history.history['accuracy']\n",
    "epochs = range(1,11)\n",
    "plt.figure(figsize=(8,6))\n",
    "plt.plot(epochs, loss_train, 'g', label='accuracy')\n",
    "plt.title('accuracy curve')\n",
    "plt.xlabel('Epochs')\n",
    "plt.ylabel('Accuracy')\n",
    "plt.legend()\n",
    "plt.show()\n"
   ]
  },
  {
   "cell_type": "code",
   "execution_count": 9,
   "id": "8330929c",
   "metadata": {},
   "outputs": [
    {
     "data": {
      "image/png": "[encoded data removed]",
      "text/plain": [
       "<Figure size 576x432 with 2 Axes>"
      ]
     },
     "metadata": {
      "needs_background": "light"
     },
     "output_type": "display_data"
    }
   ],
   "source": [
    "from sklearn.metrics import confusion_matrix\n",
    "import seaborn as sns\n",
    "\n",
    "prediction = model.predict(Xtest).argmax(axis=1)\n",
    "cm = confusion_matrix(ytest, prediction)\n",
    "\n",
    "plt.figure(figsize=(8,6))\n",
    "sns.heatmap(cm, annot=True)\n",
    "plt.title('Confusion Matrix')\n",
    "plt.ylabel('Actal Values')\n",
    "plt.xlabel('Predicted Values')\n",
    "plt.show()"
   ]
  },
  {
   "cell_type": "code",
   "execution_count": null,
   "id": "d3cfc7b0",
   "metadata": {},
   "outputs": [],
   "source": []
  }
 ],
 "metadata": {
  "kernelspec": {
   "display_name": "Python 3 (ipykernel)",
   "language": "python",
   "name": "python3"
  },
  "language_info": {
   "codemirror_mode": {
    "name": "ipython",
    "version": 3
   },
   "file_extension": ".py",
   "mimetype": "text/x-python",
   "name": "python",
   "nbconvert_exporter": "python",
   "pygments_lexer": "ipython3",
   "version": "3.8.12"
  }
 },
 "nbformat": 4,
 "nbformat_minor": 5
}
